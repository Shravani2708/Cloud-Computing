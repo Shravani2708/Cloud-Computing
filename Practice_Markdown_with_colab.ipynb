{
  "nbformat": 4,
  "nbformat_minor": 0,
  "metadata": {
    "kernelspec": {
      "display_name": "Python 3",
      "language": "python",
      "name": "python3"
    },
    "language_info": {
      "codemirror_mode": {
        "name": "ipython",
        "version": 3
      },
      "file_extension": ".py",
      "mimetype": "text/x-python",
      "name": "python",
      "nbconvert_exporter": "python",
      "pygments_lexer": "ipython3",
      "version": "3.7.6"
    },
    "colab": {
      "name": "Practice-Markdown.ipynb",
      "provenance": [],
      "include_colab_link": true
    }
  },
  "cells": [
    {
      "cell_type": "markdown",
      "metadata": {
        "id": "view-in-github",
        "colab_type": "text"
      },
      "source": [
        "<a href=\"https://colab.research.google.com/github/Shravani2708/Cloud-Computing/blob/main/Practice_Markdown_with_colab.ipynb\" target=\"_parent\"><img src=\"https://colab.research.google.com/assets/colab-badge.svg\" alt=\"Open In Colab\"/></a>"
      ]
    },
    {
      "cell_type": "markdown",
      "metadata": {
        "id": "dxlgr9f8GxnT"
      },
      "source": [
        "## Practice Markdown"
      ]
    },
    {
      "cell_type": "markdown",
      "metadata": {
        "id": "GVfJGLmxGxnV"
      },
      "source": [
        "This notebook lets you experiment with producing repeatable technical documentation.  Use this notebook to do the following actions:\n",
        "\n",
        "* Create a code cell and print a Python Hello World statement:  `print(\"hello world\")`\n",
        "* Create a Markdown Cell and add a Title using `#` and then a statement using plain text.  You can looks at the source code for this cell to get an idea of how to use Markdown.\n",
        "* Take some ideas from the [Master Markdown Github Guide](https://guides.github.com/features/mastering-markdown/) and implement them here.\n",
        "* Finally, download this notebook as a `.ipynb` file and check into a Github Project\n"
      ]
    },
    {
      "cell_type": "markdown",
      "metadata": {
        "id": "2r4ebZBrE0lH"
      },
      "source": [
        "## Print Statements "
      ]
    },
    {
      "cell_type": "code",
      "metadata": {
        "id": "bW5OLoL2E4nd",
        "outputId": "5f37c40b-d79d-4d02-876e-6bd5b2f4d2c1",
        "colab": {
          "base_uri": "https://localhost:8080/"
        }
      },
      "source": [
        "print(\"Hello World\")"
      ],
      "execution_count": 5,
      "outputs": [
        {
          "output_type": "stream",
          "text": [
            "Hello World\n"
          ],
          "name": "stdout"
        }
      ]
    },
    {
      "cell_type": "markdown",
      "metadata": {
        "id": "kYy9IODIE-Zn"
      },
      "source": [
        "## About Me"
      ]
    },
    {
      "cell_type": "markdown",
      "metadata": {
        "id": "QJ_SUI8MEr7n"
      },
      "source": [
        "Hello,**Iam Shravani**.I love learning new technologies and passions about *softwares*"
      ]
    },
    {
      "cell_type": "markdown",
      "metadata": {
        "id": "YgSOxxj3FH1U"
      },
      "source": [
        "## My Interest"
      ]
    },
    {
      "cell_type": "markdown",
      "metadata": {
        "id": "Ge41X9jgFPU2"
      },
      "source": [
        "SL.No | Area of Interests\n",
        "----- | -------------\n",
        "1     | Sketching\n",
        "2     | Reading Novels(Fictional,Mystery Thrillers,~Horror~)\n",
        "3     | Badminton\n",
        "4     | Watching Movies\n",
        "\n",
        "Link:[Youtube](https://www.youtube.com)"
      ]
    },
    {
      "cell_type": "markdown",
      "metadata": {
        "id": "wykWNDZXFUgM"
      },
      "source": [
        "## Tools and Technologies"
      ]
    },
    {
      "cell_type": "markdown",
      "metadata": {
        "id": "LXBDAnOMFYJC"
      },
      "source": [
        "1. **Programming Languauges**\n",
        "    1. Java\n",
        "    2. Python\n",
        "    3. C#\n",
        "    \n",
        "2. **Data Science**\n",
        "    1. EDA\n",
        "    2. ML\n",
        "    3. DL\n",
        "    4. NLP\n",
        "3. **Backend**\n",
        "  - [x] MySQL\n",
        "  - [x] MongoDB"
      ]
    },
    {
      "cell_type": "markdown",
      "metadata": {
        "id": "IvJiOv3VFiIM"
      },
      "source": [
        "## My Goals"
      ]
    },
    {
      "cell_type": "markdown",
      "metadata": {
        "id": "EGx0y_lRFlJ-"
      },
      "source": [
        "> 1. Getting placed in product based company\n",
        "> 2. Exploring new places\n",
        "> 3.Learning new things every days\n",
        "> 4.Be happy and Make others happy"
      ]
    },
    {
      "cell_type": "code",
      "metadata": {
        "id": "raUL0WNgFloA"
      },
      "source": [
        ""
      ],
      "execution_count": null,
      "outputs": []
    }
  ]
}